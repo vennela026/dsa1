{
 "cells": [
  {
   "cell_type": "code",
   "execution_count": 11,
   "id": "a74a7413-684a-47b3-a440-a9df36a5afd8",
   "metadata": {},
   "outputs": [
    {
     "name": "stdout",
     "output_type": "stream",
     "text": [
      "1 2 3 4 5 6 3 3 4 4 4 4 4 5 6 -list\n",
      "[1, 2, 3, 4, 5, 6] -removed duplicates\n"
     ]
    }
   ],
   "source": [
    "a=[1,1,1,2,2,2,3,3,4,4,4,4,4,5,6]\n",
    "i=0\n",
    "for j in range(len(a)):\n",
    "    if(a[i]!=a[j]):\n",
    "        a[i+1]=a[j]\n",
    "        i+=1\n",
    "print(*a,\"-list\")\n",
    "print(a[:i+1],\"-removed duplicates\")"
   ]
  },
  {
   "cell_type": "code",
   "execution_count": 53,
   "id": "f015c619-1105-4a57-827b-e741dd5fb3b2",
   "metadata": {},
   "outputs": [
    {
     "name": "stdout",
     "output_type": "stream",
     "text": [
      "[1, 2, 3, 4, 5, 6]\n"
     ]
    }
   ],
   "source": [
    "a=[1,1,1,2,2,2,3,3,4,4,4,4,4,5,6]\n",
    "i=0\n",
    "while i<len(a)-1:\n",
    "    if(a[i]==a[i+1]):\n",
    "        a.remove(a[i+1])\n",
    "    else:\n",
    "        i=i+1\n",
    "print(a)"
   ]
  },
  {
   "cell_type": "code",
   "execution_count": 29,
   "id": "37c9a3e3-c50a-4a9b-bdae-25652a53aed6",
   "metadata": {},
   "outputs": [
    {
     "name": "stdout",
     "output_type": "stream",
     "text": [
      "[1, 2, 3, 4, 5, 6]\n"
     ]
    }
   ],
   "source": [
    "a = [1, 1, 1, 2, 2, 2, 3, 3, 4, 4, 4, 4, 4, 5, 6]\n",
    "b = []\n",
    "for num in a:\n",
    "    if not b or num != b[-1]:\n",
    "        b.append(num)\n",
    "print(b)\n"
   ]
  }
 ],
 "metadata": {
  "kernelspec": {
   "display_name": "Python 3 (ipykernel)",
   "language": "python",
   "name": "python3"
  },
  "language_info": {
   "codemirror_mode": {
    "name": "ipython",
    "version": 3
   },
   "file_extension": ".py",
   "mimetype": "text/x-python",
   "name": "python",
   "nbconvert_exporter": "python",
   "pygments_lexer": "ipython3",
   "version": "3.12.7"
  }
 },
 "nbformat": 4,
 "nbformat_minor": 5
}
